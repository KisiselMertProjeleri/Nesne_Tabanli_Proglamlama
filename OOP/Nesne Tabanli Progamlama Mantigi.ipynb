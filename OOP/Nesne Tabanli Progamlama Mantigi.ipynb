{
 "cells": [
  {
   "cell_type": "markdown",
   "metadata": {},
   "source": [
    "# Nesne Tabanli Programlama Mantigi"
   ]
  },
  {
   "cell_type": "markdown",
   "metadata": {},
   "source": [
    "Bu konuyla beraber Nesne Nabanli Proglamaya giris yapiyoruz ve bu konuda biraz Nesne Tabanli Programlama hakkinda konusacagiz. Nesne Tabanli Proglamlama ingilizce ismiyle **Object Oriented Programming** en basit anlamiyla gercek hayati proglamlamaya uyarlamak icin düsünülebilir. Örnegin bir ögrenci otomasyon sistemi yazmak istiyoruz. Bunun icin ögretmenleri ögrencileri ve kurslari aslinda birer nesne olarak olusturmamiz gerekiyor. Böyle bir sistemi programlamaya gerceklestirmek icin aslinda her nesnein yapisini tanimlayip daha sonra bu yapilardan nesneler üretmemiz gerekiyor. Iste nesne tabanli programlama en basit anlamiyla bu sekildedir. Simdi obje veya nesne nedir anlamaya calisalim."
   ]
  },
  {
   "cell_type": "markdown",
   "metadata": {},
   "source": [
    "# Obje nedir"
   ]
  },
  {
   "cell_type": "markdown",
   "metadata": {},
   "source": [
    "Etrafimida baktigimizda aslinda her seyin bir esyanin objesi oldugunu görüyoruz. Örnegin bir tane televizyon kumandasini düsünelim. Bu kumandanin kendi degisik özellikleri(attribute) ve fonksiyonlari(method) bulunuyor. Örnegin kumandanin markasi, tuslari bu kumandanin özelliklerindendir(attributes). Kumandanin kirmizi tusuna bastigimizda televizyonun kapanmasi ve ses kapatma tusuna bastigimizde sesin kisilmasi bu kumandanin methodlaridir. Bunun gibi Pythondaki aslinda her sey bir objedir. örnegin listelere bakacak olursak bu liste objenin bir cok methodu ve özelligi bulunur."
   ]
  },
  {
   "cell_type": "code",
   "execution_count": 3,
   "metadata": {},
   "outputs": [],
   "source": [
    "liste = [1,2,3,4,5] # Liste objesi olusturduk"
   ]
  },
  {
   "cell_type": "code",
   "execution_count": 4,
   "metadata": {},
   "outputs": [
    {
     "name": "stdout",
     "output_type": "stream",
     "text": [
      "[1, 2, 3, 4, 5, 6]\n"
     ]
    }
   ],
   "source": [
    "liste.append(6) # Append Methodu\n",
    "print(liste)"
   ]
  },
  {
   "cell_type": "code",
   "execution_count": 5,
   "metadata": {},
   "outputs": [
    {
     "name": "stdout",
     "output_type": "stream",
     "text": [
      "<class 'list'>\n"
     ]
    }
   ],
   "source": [
    "print(type(liste)) # class list"
   ]
  },
  {
   "cell_type": "code",
   "execution_count": 6,
   "metadata": {},
   "outputs": [
    {
     "name": "stdout",
     "output_type": "stream",
     "text": [
      "\n"
     ]
    }
   ],
   "source": [
    "sözlük = dict() # dict classinindan sözlük isimli bir nesne olusturduk\n",
    "print()"
   ]
  },
  {
   "cell_type": "code",
   "execution_count": 7,
   "metadata": {},
   "outputs": [],
   "source": [
    "def toplama(a,b):\n",
    "    return a + b"
   ]
  },
  {
   "cell_type": "code",
   "execution_count": 8,
   "metadata": {},
   "outputs": [
    {
     "name": "stdout",
     "output_type": "stream",
     "text": [
      "<class 'function'>\n"
     ]
    }
   ],
   "source": [
    "print(type(toplama)) # function classindan toplama isimli bir nesne olusturdum"
   ]
  },
  {
   "cell_type": "markdown",
   "metadata": {},
   "source": [
    "Simdi kendi siniflarimizi ve nesnelerimizi olusturalim."
   ]
  }
 ],
 "metadata": {
  "kernelspec": {
   "display_name": "sanal_ortam",
   "language": "python",
   "name": "python3"
  },
  "language_info": {
   "codemirror_mode": {
    "name": "ipython",
    "version": 3
   },
   "file_extension": ".py",
   "mimetype": "text/x-python",
   "name": "python",
   "nbconvert_exporter": "python",
   "pygments_lexer": "ipython3",
   "version": "3.12.1"
  }
 },
 "nbformat": 4,
 "nbformat_minor": 2
}
