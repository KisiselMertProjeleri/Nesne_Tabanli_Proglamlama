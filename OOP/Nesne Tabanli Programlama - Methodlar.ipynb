{
 "cells": [
  {
   "cell_type": "markdown",
   "metadata": {},
   "source": [
    "# Nesne Tabanli Proramlama - Methodlar"
   ]
  },
  {
   "cell_type": "markdown",
   "metadata": {},
   "source": [
    "Bu konuda bir sinif icerisinde methodlarimizi nasil tanimlayacagimizi ögrenmeye calisacagiz. Bunun icin ilk olarak bir Yazilimci Sinifi tanimlayalim."
   ]
  },
  {
   "cell_type": "code",
   "execution_count": 4,
   "metadata": {},
   "outputs": [],
   "source": [
    "class Yazilimci():\n",
    "    def __init__(self,isim,soyisim,numara,maas,diller):\n",
    "        self.isim = isim\n",
    "        self.soyisim = soyisim\n",
    "        self.numara = numara    # Yazilimci objelerin özellikleri\n",
    "        self.maas = maas\n",
    "        self.diller = diller"
   ]
  },
  {
   "cell_type": "code",
   "execution_count": 5,
   "metadata": {},
   "outputs": [],
   "source": [
    "# yazilimci objesi\n",
    "yazilimci1 = Yazilimci('Yunus Emre', 'Kayis', 12345, 30000, ['Python','Java'])"
   ]
  },
  {
   "cell_type": "code",
   "execution_count": null,
   "metadata": {},
   "outputs": [],
   "source": [
    "yazilimci2 = Yazilimci('Mert', 'Bozkurt', 23456, 35000, ['Matlab', 'R', 'C'])"
   ]
  },
  {
   "cell_type": "code",
   "execution_count": 7,
   "metadata": {},
   "outputs": [
    {
     "data": {
      "text/plain": [
       "['Python', 'Java']"
      ]
     },
     "execution_count": 7,
     "metadata": {},
     "output_type": "execute_result"
    }
   ],
   "source": [
    "yazilimci1.diller"
   ]
  },
  {
   "cell_type": "code",
   "execution_count": 8,
   "metadata": {},
   "outputs": [
    {
     "data": {
      "text/plain": [
       "'Bozkurt'"
      ]
     },
     "execution_count": 8,
     "metadata": {},
     "output_type": "execute_result"
    }
   ],
   "source": [
    "yazilimci2.soyisim"
   ]
  },
  {
   "cell_type": "markdown",
   "metadata": {},
   "source": [
    "Önceki konuda bunlarin nasil yapildigini biliyoruz. Peki bu class'a methodlari nasil tanimlayabiliriz? Ayni __init__ methodunu tanimladigimiz gibi bir class'a istedigimiz kadar method tanimlayabiliriz. Örnegin Yazilimci classina "
   ]
  },
  {
   "cell_type": "code",
   "execution_count": 9,
   "metadata": {},
   "outputs": [],
   "source": [
    "class Yazilimci():\n",
    "    def __init__(self,isim,soyisim,numara,maas,diller):\n",
    "        self.isim = isim\n",
    "        self.soyisim = soyisim\n",
    "        self.numara = numara    # Yazilimci objelerin özellikleri\n",
    "        self.maas = maas\n",
    "        self.diller = diller\n",
    "\n",
    "    def bilgileriGoster(self):\n",
    "        print(f\"\"\"\n",
    "                Calisan Bilgisi:\n",
    "\n",
    "                Isim: {self.isim}\n",
    "\n",
    "                Soyisim: {self.soyisim}\n",
    "\n",
    "                Sirket Numarasi: {self.numara}\n",
    "\n",
    "                Maas: {self.maas}\n",
    "\n",
    "                Diller: {self.diller}\n",
    "                  \"\"\")"
   ]
  },
  {
   "cell_type": "code",
   "execution_count": 10,
   "metadata": {},
   "outputs": [],
   "source": [
    "yazilimci1 = Yazilimci('Burak', 'Oyuncu', 12345, 30000, ['Python','Css','HTML'])"
   ]
  },
  {
   "cell_type": "code",
   "execution_count": 11,
   "metadata": {},
   "outputs": [
    {
     "name": "stdout",
     "output_type": "stream",
     "text": [
      "\n",
      "                Calisan Bilgisi:\n",
      "\n",
      "                Isim: Burak\n",
      "\n",
      "                Soyisim: Oyuncu\n",
      "\n",
      "                Sirket Numarasi: 12345\n",
      "\n",
      "                Maas: 30000\n",
      "\n",
      "                Diller: ['Python', 'Css', 'HTML']\n",
      "                  \n"
     ]
    }
   ],
   "source": [
    "yazilimci1.bilgileriGoster()"
   ]
  },
  {
   "cell_type": "markdown",
   "metadata": {},
   "source": [
    "Burada bilgileriGoster isimli methodu tanimlayarak her bir özzelligimizin degerini ekrana toplu bir sekilde yazdirmis olduk. Methodlarimizi yazarken dikket etmemiz gereken nokta her methodun birinci parametresi **self** referansi olmasi gerektigidir. Ayrica objelerimizin özelliklerine mutlaka self referansiyla erismemiz gerekiyor. Isterseniz bu class'a 2 method daha ekleyelim."
   ]
  },
  {
   "cell_type": "code",
   "execution_count": 16,
   "metadata": {},
   "outputs": [],
   "source": [
    "class Yazilimci():\n",
    "    def __init__(self,isim,soyisim,numara,maas,diller):\n",
    "        self.isim = isim\n",
    "        self.soyisim = soyisim\n",
    "        self.numara = numara    # Yazilimci objelerin özellikleri\n",
    "        self.maas = maas\n",
    "        self.diller = diller\n",
    "\n",
    "    def bilgileriGoster(self):\n",
    "        print(f\"\"\"\n",
    "                Calisan Bilgisi:\n",
    "\n",
    "                Isim: {self.isim}\n",
    "\n",
    "                Soyisim: {self.soyisim}\n",
    "\n",
    "                Sirket Numarasi: {self.numara}\n",
    "\n",
    "                Maas: {self.maas}\n",
    "\n",
    "                Diller: {self.diller}\n",
    "                  \"\"\")\n",
    "        \n",
    "    def dil_ekle(self, yeni_dil):\n",
    "        print('Dil Ekleniyor')\n",
    "        self.diller.append(yeni_dil)\n",
    "    \n",
    "    def maas_yukselt(self, zam_miktari):\n",
    "        print('Maas Yükseltiliyor')\n",
    "        self.maas += zam_miktari"
   ]
  },
  {
   "cell_type": "code",
   "execution_count": 17,
   "metadata": {},
   "outputs": [],
   "source": [
    "yazilimci1 = Yazilimci('Zeynep', 'Dogan', 12345, 30000, ['Python', 'Java', 'C+'])"
   ]
  },
  {
   "cell_type": "code",
   "execution_count": 18,
   "metadata": {},
   "outputs": [
    {
     "name": "stdout",
     "output_type": "stream",
     "text": [
      "Maas Yükseltiliyor\n"
     ]
    }
   ],
   "source": [
    "yazilimci1.maas_yukselt(5000)"
   ]
  },
  {
   "cell_type": "code",
   "execution_count": 19,
   "metadata": {},
   "outputs": [
    {
     "name": "stdout",
     "output_type": "stream",
     "text": [
      "\n",
      "                Calisan Bilgisi:\n",
      "\n",
      "                Isim: Zeynep\n",
      "\n",
      "                Soyisim: Dogan\n",
      "\n",
      "                Sirket Numarasi: 12345\n",
      "\n",
      "                Maas: 35000\n",
      "\n",
      "                Diller: ['Python', 'Java', 'C+']\n",
      "                  \n"
     ]
    }
   ],
   "source": [
    "yazilimci1.bilgileriGoster()"
   ]
  },
  {
   "cell_type": "code",
   "execution_count": 20,
   "metadata": {},
   "outputs": [
    {
     "name": "stdout",
     "output_type": "stream",
     "text": [
      "Dil Ekleniyor\n"
     ]
    }
   ],
   "source": [
    "yazilimci1.dil_ekle('Java Script')"
   ]
  },
  {
   "cell_type": "code",
   "execution_count": 21,
   "metadata": {},
   "outputs": [
    {
     "name": "stdout",
     "output_type": "stream",
     "text": [
      "\n",
      "                Calisan Bilgisi:\n",
      "\n",
      "                Isim: Zeynep\n",
      "\n",
      "                Soyisim: Dogan\n",
      "\n",
      "                Sirket Numarasi: 12345\n",
      "\n",
      "                Maas: 35000\n",
      "\n",
      "                Diller: ['Python', 'Java', 'C+', 'Java Script']\n",
      "                  \n"
     ]
    }
   ],
   "source": [
    "yazilimci1.bilgileriGoster()"
   ]
  },
  {
   "cell_type": "markdown",
   "metadata": {},
   "source": [
    "Iste Bu kadar. Simdi inheritence yani miras alma mantigina bakacagiz."
   ]
  },
  {
   "cell_type": "code",
   "execution_count": null,
   "metadata": {},
   "outputs": [],
   "source": []
  }
 ],
 "metadata": {
  "kernelspec": {
   "display_name": "sanal_ortam",
   "language": "python",
   "name": "python3"
  },
  "language_info": {
   "codemirror_mode": {
    "name": "ipython",
    "version": 3
   },
   "file_extension": ".py",
   "mimetype": "text/x-python",
   "name": "python",
   "nbconvert_exporter": "python",
   "pygments_lexer": "ipython3",
   "version": "3.12.1"
  }
 },
 "nbformat": 4,
 "nbformat_minor": 2
}
