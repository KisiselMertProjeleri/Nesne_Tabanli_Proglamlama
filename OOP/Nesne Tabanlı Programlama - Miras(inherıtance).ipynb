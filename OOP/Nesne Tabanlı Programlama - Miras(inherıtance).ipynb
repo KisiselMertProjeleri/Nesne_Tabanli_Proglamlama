{
 "cells": [
  {
   "cell_type": "markdown",
   "metadata": {},
   "source": [
    "# Nesne Tabanlı Programlama - Miras Alma(Inheritance)\n",
    "\n",
    "Bu konuda **Nesne Tabanlı Programalama** inheritance(kalıtım ve miras alma) konseptini öğrenmeye çalışacağız. Inheritance veya kalıtım bir sınıfın başka bir sınıftan özelliklerini(attributes) ve methodlarını miras almasıdır.\n",
    "\n",
    "Bu konsepti aslında bizim kendi anne ve babamızdan değişik özellikleri ve davranışları miras almamıza benzetebiliriz.\n",
    "\n",
    "Peki inheritance ne işimize yarar? Örneğin şirket çalışanlarını tasarlamak için sınıflar oluşturuyoruz. Bunun için yönetici Porje Direktörü işçi gibi sınıflar oluşturmamız gerekiyor. Aslında baktığımız zaman bu sınıfların hepsinin belli ortak methodları ve özellikleri bulunuyor. O zaman bu ortak özellikleri ve methodları tekrar tekrar bu sınıfların içerisinde yazmak yerine, bir tane class ortak özellikleri ve methodları almalarını sağlayabiliriz. Inheritance ve kalıtım'ın mantığı budur.\n",
    "\n",
    "Şimdi inheritance yapısını kurmak için öncellikle bir tane çalışan sınıfı oluşturalım."
   ]
  },
  {
   "cell_type": "code",
   "execution_count": null,
   "metadata": {},
   "outputs": [],
   "source": [
    "class Çalışan():\n",
    "    def __init__(self,isim,maaş,departman):\n",
    "        print(\"Çalışan sınıfı init fonksiyonu\")\n",
    "        self.isim = isim\n",
    "        self.maaş = maaş    # Özellikleri tanımladık\n",
    "        self.departman = departman\n",
    "\n",
    "    def bilgileriGoster(self):\n",
    "\n",
    "        \n",
    "        print(\"Çalışan Sınıfının Bilgileri.......\")\n",
    "\n",
    "        print(f\"\"\"\n",
    "        İsim: {self.isim}\n",
    "\n",
    "        Maaş: {self.maaş}\n",
    "\n",
    "        Departman: {self.departman}\n",
    "                \"\"\")\n",
    "        \n",
    "    def departmanDegistir(self,yeni_departman):\n",
    "        print(\"Departman Değiştiriliyor\")\n",
    "        self.departman = yeni_departman"
   ]
  },
  {
   "cell_type": "markdown",
   "metadata": {},
   "source": [
    "Çalışan sınıfını oluşturduk şimdi de Yönetici sınıfını Çalışan sınıfından türetmeye çalışalım"
   ]
  },
  {
   "cell_type": "code",
   "execution_count": 2,
   "metadata": {},
   "outputs": [],
   "source": [
    "class Yönetici(Çalışan): # Çalışan sınıfından miras alıyoruz\n",
    "    pass # Pass deyimi bir bloğu sonradan tanımlamak istediğimiz zaman kullanılan bir deyimdir"
   ]
  },
  {
   "cell_type": "markdown",
   "metadata": {},
   "source": [
    "Burada yönetici sınıfına herhangi bir şey tanımlamadık. Çalışan sınıfının bütün özelliklerini ve methodlarını miras aldık. Bakalım çalışan sınıfının methodlarını kullanabilecek miyiz"
   ]
  },
  {
   "cell_type": "code",
   "execution_count": 3,
   "metadata": {},
   "outputs": [
    {
     "name": "stdout",
     "output_type": "stream",
     "text": [
      "Çalışan sınıfı init fonksiyonu\n"
     ]
    }
   ],
   "source": [
    "yönetici1 = Yönetici('Emre',100000,'Management')"
   ]
  },
  {
   "cell_type": "code",
   "execution_count": 5,
   "metadata": {},
   "outputs": [
    {
     "name": "stdout",
     "output_type": "stream",
     "text": [
      "Çalışan Sınıfının Bilgileri.......\n",
      "\n",
      "        İsim: Emre\n",
      "\n",
      "        Maaş: 100000\n",
      "\n",
      "        Departman: Management\n",
      "                \n"
     ]
    }
   ],
   "source": [
    "yönetici1.bilgileriGoster()"
   ]
  },
  {
   "cell_type": "code",
   "execution_count": 6,
   "metadata": {},
   "outputs": [
    {
     "name": "stdout",
     "output_type": "stream",
     "text": [
      "Departman Değiştiriliyor\n"
     ]
    }
   ],
   "source": [
    "yönetici1.departmanDegistir('İnsan Kaynakları')"
   ]
  },
  {
   "cell_type": "code",
   "execution_count": 7,
   "metadata": {},
   "outputs": [
    {
     "name": "stdout",
     "output_type": "stream",
     "text": [
      "Çalışan Sınıfının Bilgileri.......\n",
      "\n",
      "        İsim: Emre\n",
      "\n",
      "        Maaş: 100000\n",
      "\n",
      "        Departman: İnsan Kaynakları\n",
      "                \n"
     ]
    }
   ],
   "source": [
    "yönetici1.bilgileriGoster()"
   ]
  },
  {
   "cell_type": "markdown",
   "metadata": {},
   "source": [
    "Burada gördüğünüz gibi bütün özellikleri ve methodları miras aldığımız için kullanabiliyoruz. Bunu dir() methoduyla da görebiliriz"
   ]
  },
  {
   "cell_type": "code",
   "execution_count": 8,
   "metadata": {},
   "outputs": [
    {
     "data": {
      "text/plain": [
       "['__class__',\n",
       " '__delattr__',\n",
       " '__dict__',\n",
       " '__dir__',\n",
       " '__doc__',\n",
       " '__eq__',\n",
       " '__format__',\n",
       " '__ge__',\n",
       " '__getattribute__',\n",
       " '__getstate__',\n",
       " '__gt__',\n",
       " '__hash__',\n",
       " '__init__',\n",
       " '__init_subclass__',\n",
       " '__le__',\n",
       " '__lt__',\n",
       " '__module__',\n",
       " '__ne__',\n",
       " '__new__',\n",
       " '__reduce__',\n",
       " '__reduce_ex__',\n",
       " '__repr__',\n",
       " '__setattr__',\n",
       " '__sizeof__',\n",
       " '__str__',\n",
       " '__subclasshook__',\n",
       " '__weakref__',\n",
       " 'bilgileriGoster',\n",
       " 'departman',\n",
       " 'departmanDegistir',\n",
       " 'isim',\n",
       " 'maaş']"
      ]
     },
     "execution_count": 8,
     "metadata": {},
     "output_type": "execute_result"
    }
   ],
   "source": [
    "dir(yönetici1)"
   ]
  },
  {
   "cell_type": "markdown",
   "metadata": {},
   "source": [
    "Peki biz Ynetici sınıfına ekstra methodlar ve özellikler ekleyebiliyor muyuz? Örnek olması açısından **zam_yap** isimli bir method ekleyelim"
   ]
  },
  {
   "cell_type": "code",
   "execution_count": 12,
   "metadata": {},
   "outputs": [],
   "source": [
    "class Yönetici(Çalışan): # Çalışan sınıfından miras alıyoruz\n",
    "    def zam_yap(self, zam_miktarı):\n",
    "        print(\"Zam Yapılıyor\")\n",
    "        self.maaş += zam_miktarı"
   ]
  },
  {
   "cell_type": "code",
   "execution_count": 13,
   "metadata": {},
   "outputs": [
    {
     "name": "stdout",
     "output_type": "stream",
     "text": [
      "Çalışan sınıfı init fonksiyonu\n"
     ]
    }
   ],
   "source": [
    "yönetici2 = Yönetici('Mert', 50000, 'Bilişim')"
   ]
  },
  {
   "cell_type": "code",
   "execution_count": 14,
   "metadata": {},
   "outputs": [
    {
     "name": "stdout",
     "output_type": "stream",
     "text": [
      "Zam Yapılıyor\n"
     ]
    }
   ],
   "source": [
    "yönetici2.zam_yap(20000)"
   ]
  },
  {
   "cell_type": "code",
   "execution_count": 15,
   "metadata": {},
   "outputs": [
    {
     "name": "stdout",
     "output_type": "stream",
     "text": [
      "Çalışan Sınıfının Bilgileri.......\n",
      "\n",
      "        İsim: Mert\n",
      "\n",
      "        Maaş: 70000\n",
      "\n",
      "        Departman: Bilişim\n",
      "                \n"
     ]
    }
   ],
   "source": [
    "yönetici2.bilgileriGoster()"
   ]
  },
  {
   "cell_type": "markdown",
   "metadata": {},
   "source": [
    "İşte biz bir sınıftan miras alarak oluşturduğumuz sınıflara ekstra özellik ekleyebiliyoruz"
   ]
  },
  {
   "cell_type": "markdown",
   "metadata": {},
   "source": [
    "# Overriding (İptal Etme)\n",
    "\n",
    "eğer miras aldığımız methodlar aynı isimle kendi sınıfımızda tanımlarsak, artık methodu çağırdığımız zaman miras aldığımız değil kendi methodumuz çalışacaktır. Buna Nesne Tabanlı Programlamada Overriding Etme diyoruz.\n",
    "\n",
    "Örneğin artık Çalışan sınıfının **init** methodunu kullanmak yerine Yönetici sınıfında **init** methodunu override edebiliriz. Böylelıkle Yönetici sınıfına ekstra özellikler(attributes0) ekleyebiliriz."
   ]
  },
  {
   "cell_type": "code",
   "execution_count": null,
   "metadata": {},
   "outputs": [],
   "source": [
    "class Çalışan():\n",
    "    def __init__(self,isim,maaş,departman):\n",
    "        print(\"Çalışan sınıfı init fonksiyonu\")\n",
    "        self.isim = isim\n",
    "        self.maaş = maaş    # Özellikleri tanımladık\n",
    "        self.departman = departman\n",
    "\n",
    "    def bilgileriGoster(self):\n",
    "        print(\"Çalışan Sınıfının Bilgileri.......\")\n",
    "\n",
    "\n",
    "        print(f\"\"\"\n",
    "        İsim: {self.isim}\n",
    "\n",
    "        Maaş: {self.maaş}\n",
    "\n",
    "        Departman: {self.departman}\n",
    "                \"\"\")\n",
    "    def departmanDegistir(self,yeni_departman):\n",
    "        print(\"Departman Değiştiriliyor\")\n",
    "        self.departman = yeni_departman"
   ]
  },
  {
   "cell_type": "code",
   "execution_count": null,
   "metadata": {},
   "outputs": [],
   "source": [
    "class Yönetici(Çalışan):\n",
    "    def __init__(self,isim,maaş,departman,kişi_sayısı):\n",
    "        print(\"Yönetici sınıfının init fonksiyonu\")\n",
    "        self.isim = isim\n",
    "        self.maaş = maaş\n",
    "        self.departman = departman\n",
    "        self.kişi_sayısı = kişi_sayısı # yeni eleman ekledik\n",
    "    def zam_yap(self,zam_miktarı):\n",
    "        print(\"Zam Yapılıyor\")\n",
    "        self.maaş += zam_miktarı\n",
    "    \n",
    "    def bilgileriGoster(self):\n",
    "        print(\"Çalışan Sınıfının Bilgileri.......\")\n",
    "\n",
    "\n",
    "        print(f\"\"\"\n",
    "        İsim: {self.isim}\n",
    "\n",
    "        Maaş: {self.maaş}\n",
    "\n",
    "        Departman: {self.departman}\n",
    "\n",
    "        Sorumlu Kişi Sayısı: {self.kişi_sayısı}\n",
    "                \"\"\")"
   ]
  },
  {
   "cell_type": "code",
   "execution_count": 19,
   "metadata": {},
   "outputs": [
    {
     "name": "stdout",
     "output_type": "stream",
     "text": [
      "Yönetici sınıfının init fonksiyonu\n"
     ]
    }
   ],
   "source": [
    "yönetici3 = Yönetici(\"Arda\",60000,'Bilişim',10)"
   ]
  },
  {
   "cell_type": "markdown",
   "metadata": {},
   "source": [
    "İsterseniz şimdi de bilgileriGoster methodunu override edelim"
   ]
  },
  {
   "cell_type": "code",
   "execution_count": 21,
   "metadata": {},
   "outputs": [
    {
     "name": "stdout",
     "output_type": "stream",
     "text": [
      "Yönetici sınıfının init fonksiyonu\n"
     ]
    }
   ],
   "source": [
    "yönetici4 = Yönetici('Mahir',70000,'Pazarlama',5)"
   ]
  },
  {
   "cell_type": "code",
   "execution_count": 24,
   "metadata": {},
   "outputs": [
    {
     "name": "stdout",
     "output_type": "stream",
     "text": [
      "Çalışan Sınıfının Bilgileri.......\n",
      "\n",
      "        İsim: Mahir\n",
      "\n",
      "        Maaş: 70000\n",
      "\n",
      "        Departman: Pazarlama\n",
      "\n",
      "        Sorumlu Kişi Sayısı: 5\n",
      "                \n"
     ]
    }
   ],
   "source": [
    "yönetici4.bilgileriGoster()"
   ]
  },
  {
   "cell_type": "markdown",
   "metadata": {},
   "source": [
    "# super() Anahtar Kelimesi\n",
    "\n",
    "super anahtar kelimesi özellikle overrida ettiğimiz bir methodun içinde aynı zamanda miras aldığımız methodu kullanmak istersek kullanılabilir. Yani **super** en genel anlamıyla sınıfın methodlarını alt sınıflardan kullanmamızı sağlar. Hemen örnek vererek başlayalım."
   ]
  },
  {
   "cell_type": "code",
   "execution_count": 25,
   "metadata": {},
   "outputs": [],
   "source": [
    "class Çalışan():\n",
    "    def __init__(self,isim,maaş,departman):\n",
    "        print(\"Çalışan sınıfı init fonksiyonu\")\n",
    "        self.isim = isim\n",
    "        self.maaş = maaş    # Özellikleri tanımladık\n",
    "        self.departman = departman\n",
    "\n",
    "    def bilgileriGoster(self):\n",
    "        print(\"Çalışan Sınıfının Bilgileri.......\")\n",
    "\n",
    "\n",
    "        print(f\"\"\"\n",
    "        İsim: {self.isim}\n",
    "\n",
    "        Maaş: {self.maaş}\n",
    "\n",
    "        Departman: {self.departman}\n",
    "                \"\"\")\n",
    "    def departmanDegistir(self,yeni_departman):\n",
    "        print(\"Departman Değiştiriliyor\")\n",
    "        self.departman = yeni_departman"
   ]
  },
  {
   "cell_type": "code",
   "execution_count": 28,
   "metadata": {},
   "outputs": [],
   "source": [
    "class Yönetici(Çalışan):\n",
    "    def __init__(self,isim,maaş,departman,kişi_sayısı): # Sorumlu olduğu kişi sayısı\n",
    "        super().__init__(isim,maaş,departman) # 3 tane özelliği Çalışan fonksiyonun init fonksiyonuyla hallediyoruz\n",
    "        print(\"Yönetici sınıfının init fonksiyonu\")\n",
    "        self.kişi_sayısı = kişi_sayısı # Ekstra özelliğimizi kendimiz yazıyoruz\n",
    "        \n",
    "    def zam_yap(self,zam_miktarı):\n",
    "        print(\"Zam Yapılıyor\")\n",
    "        self.maaş += zam_miktarı\n",
    "    \n",
    "    def bilgileriGoster(self):\n",
    "        print(\"Çalışan Sınıfının Bilgileri.......\")\n",
    "\n",
    "\n",
    "        print(f\"\"\"\n",
    "        İsim: {self.isim}\n",
    "\n",
    "        Maaş: {self.maaş}\n",
    "\n",
    "        Departman: {self.departman}\n",
    "\n",
    "        Sorumlu Kişi Sayısı: {self.kişi_sayısı}\n",
    "                \"\"\")"
   ]
  },
  {
   "cell_type": "markdown",
   "metadata": {},
   "source": [
    "Burada **super().__init__()** diyerek Çalışan sınıfının methodunu özelliklerini methodla belirledik"
   ]
  },
  {
   "cell_type": "code",
   "execution_count": 29,
   "metadata": {},
   "outputs": [
    {
     "name": "stdout",
     "output_type": "stream",
     "text": [
      "Çalışan sınıfı init fonksiyonu\n",
      "Yönetici sınıfının init fonksiyonu\n"
     ]
    }
   ],
   "source": [
    "yönetici5 = Yönetici('Buse',40000,'İnsan Kaynakları',4)"
   ]
  },
  {
   "cell_type": "markdown",
   "metadata": {},
   "source": [
    "İşte inheritance konusu bu kadar! İlk başlarda biraz karışık gelmiş olabilir ancak bunu kullana kullana alışacaksınız."
   ]
  },
  {
   "cell_type": "code",
   "execution_count": null,
   "metadata": {},
   "outputs": [],
   "source": []
  }
 ],
 "metadata": {
  "kernelspec": {
   "display_name": "sanal_ortam",
   "language": "python",
   "name": "python3"
  },
  "language_info": {
   "codemirror_mode": {
    "name": "ipython",
    "version": 3
   },
   "file_extension": ".py",
   "mimetype": "text/x-python",
   "name": "python",
   "nbconvert_exporter": "python",
   "pygments_lexer": "ipython3",
   "version": "3.12.1"
  }
 },
 "nbformat": 4,
 "nbformat_minor": 2
}
