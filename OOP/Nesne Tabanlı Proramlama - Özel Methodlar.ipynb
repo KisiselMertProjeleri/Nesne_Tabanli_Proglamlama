{
 "cells": [
  {
   "cell_type": "markdown",
   "metadata": {},
   "source": [
    "# Nesne Tabanlı Programlama - Özel Methodlar\n",
    "\n",
    "    Nesne Tabanlı Programlamada son olarak özel methodları nasıl yazarız öğrenmeye çalışalım. Özel methodlar daha önce de bahsettiğimiz gibi bizim özel olarak çağırdığımız ancak her class'a ait methodlardır. Bunların çoğu biz tanımlamasak bile Python tarafından varsayılan olarak tanımlanır. Ancak bu metholdarın bazıları da özel olarak bizim tanımlamamız gerekmektedir. Daha önceden gördüğümüz init methodunu bu methodlara örnektir. Bu konu nu methodları nasıl tanımlayacağımızı öğrenmeye çalışacağız. Şimdi örneklere geçelim."
   ]
  },
  {
   "cell_type": "code",
   "execution_count": 1,
   "metadata": {},
   "outputs": [],
   "source": [
    "class Kitap():\n",
    "    pass"
   ]
  },
  {
   "cell_type": "code",
   "execution_count": 2,
   "metadata": {},
   "outputs": [],
   "source": [
    "kitap1 = Kitap() # __init__ methodunu çağrılıyor"
   ]
  },
  {
   "cell_type": "code",
   "execution_count": 3,
   "metadata": {},
   "outputs": [
    {
     "ename": "TypeError",
     "evalue": "object of type 'Kitap' has no len()",
     "output_type": "error",
     "traceback": [
      "\u001b[0;31m---------------------------------------------------------------------------\u001b[0m",
      "\u001b[0;31mTypeError\u001b[0m                                 Traceback (most recent call last)",
      "Cell \u001b[0;32mIn[3], line 1\u001b[0m\n\u001b[0;32m----> 1\u001b[0m \u001b[38;5;28;43mlen\u001b[39;49m\u001b[43m(\u001b[49m\u001b[43mkitap1\u001b[49m\u001b[43m)\u001b[49m \u001b[38;5;66;03m# __len__ methodu çağıralacak ancak tanımlı değildir. Bunu özellikle bizim tanımamız gerekiyor.\u001b[39;00m\n",
      "\u001b[0;31mTypeError\u001b[0m: object of type 'Kitap' has no len()"
     ]
    }
   ],
   "source": [
    "len(kitap1) # __len__ methodu çağıralacak ancak tanımlı değildir. Bunu özellikle bizim tanımamız gerekiyor."
   ]
  },
  {
   "cell_type": "code",
   "execution_count": 4,
   "metadata": {},
   "outputs": [],
   "source": [
    "del kitap1 # del anahtar kelimesi bir objeyi siler ve __del__ methodu çağırılır"
   ]
  },
  {
   "cell_type": "code",
   "execution_count": 5,
   "metadata": {},
   "outputs": [
    {
     "ename": "NameError",
     "evalue": "name 'kitap1' is not defined",
     "output_type": "error",
     "traceback": [
      "\u001b[0;31m---------------------------------------------------------------------------\u001b[0m",
      "\u001b[0;31mNameError\u001b[0m                                 Traceback (most recent call last)",
      "Cell \u001b[0;32mIn[5], line 1\u001b[0m\n\u001b[0;32m----> 1\u001b[0m \u001b[43mkitap1\u001b[49m\n",
      "\u001b[0;31mNameError\u001b[0m: name 'kitap1' is not defined"
     ]
    }
   ],
   "source": [
    "kitap1"
   ]
  },
  {
   "cell_type": "markdown",
   "metadata": {},
   "source": [
    "Şimdi buradaki methodları kendimiz tanımlarsak artık kendi init methodum çalışacaktır."
   ]
  },
  {
   "cell_type": "markdown",
   "metadata": {},
   "source": [
    "# init methodu\n",
    "init methodunu kendimiz tanımlarsak artık kendi init methodumuz çalışacaktır."
   ]
  },
  {
   "cell_type": "code",
   "execution_count": 6,
   "metadata": {},
   "outputs": [],
   "source": [
    "class Kitap():\n",
    "    def __init__(self,isim,yazar,sayfa_sayısı,tür):\n",
    "        print(\"Kitap objesi oluşturuluyor\")\n",
    "        self.isimm = isim\n",
    "        self.yazar = yazar\n",
    "        self.sayfa_sayısı = sayfa_sayısı\n",
    "        self.tür = tür"
   ]
  },
  {
   "cell_type": "code",
   "execution_count": 7,
   "metadata": {},
   "outputs": [
    {
     "name": "stdout",
     "output_type": "stream",
     "text": [
      "Kitap objesi oluşturuluyor\n"
     ]
    }
   ],
   "source": [
    "kitap1 = Kitap(\"İstanbul Hatırası\", 'Ahmet Ümit',561,'Polisiye') # Kendi methodumuz"
   ]
  },
  {
   "cell_type": "markdown",
   "metadata": {},
   "source": [
    "# str methodu"
   ]
  },
  {
   "cell_type": "markdown",
   "metadata": {},
   "source": [
    "normalde print(kitap1) ifadesi şöyle yanıt çıkarıyor."
   ]
  },
  {
   "cell_type": "code",
   "execution_count": 8,
   "metadata": {},
   "outputs": [
    {
     "name": "stdout",
     "output_type": "stream",
     "text": [
      "<__main__.Kitap object at 0x73f8580d3860>\n"
     ]
    }
   ],
   "source": [
    "print(kitap1)"
   ]
  },
  {
   "cell_type": "markdown",
   "metadata": {},
   "source": [
    "Ancak eğer str methodunu kendimiz tanımlarsak artık ekrana **kitap1** için içeriğini daha anlaşılır yazabileceğiz."
   ]
  },
  {
   "cell_type": "code",
   "execution_count": 13,
   "metadata": {},
   "outputs": [],
   "source": [
    "class Kitap():\n",
    "    def __init__(self,isim,yazar,sayfa_sayısı,tür):\n",
    "        print(\"Kitap objesi oluşturuluyor\")\n",
    "        self.isim = isim\n",
    "        self.yazar = yazar\n",
    "        self.sayfa_sayısı = sayfa_sayısı\n",
    "        self.tür = tür\n",
    "    def __str__(self):\n",
    "        # return kullanmamız yeterlidir\n",
    "        return f\"\"\"\n",
    "        İsim: {self.isim}\n",
    "\n",
    "        Yazar: {self.yazar}\n",
    "\n",
    "        Sayfa Sayısı: {self.sayfa_sayısı}\n",
    "\n",
    "        Tür: {self.tür}\n",
    "\"\"\""
   ]
  },
  {
   "cell_type": "code",
   "execution_count": 14,
   "metadata": {},
   "outputs": [
    {
     "name": "stdout",
     "output_type": "stream",
     "text": [
      "Kitap objesi oluşturuluyor\n"
     ]
    }
   ],
   "source": [
    "kitap1 = Kitap(\"İstanbul Hatırası\", 'Ahmet Ümit',561,'Polisiye')"
   ]
  },
  {
   "cell_type": "code",
   "execution_count": 15,
   "metadata": {},
   "outputs": [
    {
     "name": "stdout",
     "output_type": "stream",
     "text": [
      "\n",
      "        İsim: İstanbul Hatırası\n",
      "\n",
      "        Yazar: Ahmet Ümit\n",
      "\n",
      "        Sayfa Sayısı: 561\n",
      "\n",
      "        Tür: Polisiye\n",
      "\n"
     ]
    }
   ],
   "source": [
    "print(kitap1)"
   ]
  },
  {
   "cell_type": "markdown",
   "metadata": {},
   "source": [
    "# len methodu"
   ]
  },
  {
   "cell_type": "markdown",
   "metadata": {},
   "source": [
    "len methodunu normalde özel olarak biz tanımlamazsak tanımlanan bir method değil onun için kendimiz tanımlamamız gerekir."
   ]
  },
  {
   "cell_type": "code",
   "execution_count": null,
   "metadata": {},
   "outputs": [],
   "source": [
    "class Kitap():\n",
    "    def __init__(self,isim,yazar,sayfa_sayısı,tür):\n",
    "        print(\"Kitap objesi oluşturuluyor\")\n",
    "        self.isim = isim\n",
    "        self.yazar = yazar\n",
    "        self.sayfa_sayısı = sayfa_sayısı\n",
    "        self.tür = tür\n",
    "    def __str__(self):\n",
    "        # return kullanmamız yeterlidir\n",
    "        return f\"\"\"\n",
    "        İsim: {self.isim}\n",
    "\n",
    "        Yazar: {self.yazar}\n",
    "\n",
    "        Sayfa Sayısı: {self.sayfa_sayısı}\n",
    "\n",
    "        Tür: {self.tür}\n",
    "\"\"\"\n",
    "    \n",
    "    def __len__(self):\n",
    "        return self.sayfa_sayısı"
   ]
  },
  {
   "cell_type": "code",
   "execution_count": 17,
   "metadata": {},
   "outputs": [
    {
     "name": "stdout",
     "output_type": "stream",
     "text": [
      "Kitap objesi oluşturuluyor\n"
     ]
    }
   ],
   "source": [
    "kitap1 = Kitap(\"İstanbul Hatırası\", 'Ahmet Ümit',561,'Polisiye')"
   ]
  },
  {
   "cell_type": "code",
   "execution_count": 18,
   "metadata": {},
   "outputs": [
    {
     "data": {
      "text/plain": [
       "561"
      ]
     },
     "execution_count": 18,
     "metadata": {},
     "output_type": "execute_result"
    }
   ],
   "source": [
    "len(kitap1) # kendi __len__ methodumuz çağırıldı"
   ]
  },
  {
   "cell_type": "markdown",
   "metadata": {},
   "source": [
    "# del methodu"
   ]
  },
  {
   "cell_type": "markdown",
   "metadata": {},
   "source": [
    "del methodu Pythonda bir objeyi **del** anahtar kelimesiyle sildiğimiz zaman çalıştırılan bir methoddur. Bu methodu kendimiz tanımlamamız gerekir."
   ]
  },
  {
   "cell_type": "code",
   "execution_count": 19,
   "metadata": {},
   "outputs": [
    {
     "name": "stdout",
     "output_type": "stream",
     "text": [
      "Kitap objesi oluşturuluyor\n"
     ]
    }
   ],
   "source": [
    "kitap1 = Kitap(\"İstanbul Hatırası\", 'Ahmet Ümit',561,'Polisiye')"
   ]
  },
  {
   "cell_type": "code",
   "execution_count": 20,
   "metadata": {},
   "outputs": [],
   "source": [
    "class Kitap():\n",
    "    def __init__(self,isim,yazar,sayfa_sayısı,tür):\n",
    "        print(\"Kitap objesi oluşturuluyor\")\n",
    "        self.isim = isim\n",
    "        self.yazar = yazar\n",
    "        self.sayfa_sayısı = sayfa_sayısı\n",
    "        self.tür = tür\n",
    "    def __str__(self):\n",
    "        # return kullanmamız yeterlidir\n",
    "        return f\"\"\"\n",
    "        İsim: {self.isim}\n",
    "\n",
    "        Yazar: {self.yazar}\n",
    "\n",
    "        Sayfa Sayısı: {self.sayfa_sayısı}\n",
    "\n",
    "        Tür: {self.tür}\n",
    "\"\"\"\n",
    "    \n",
    "    def __len__(self):\n",
    "        return self.sayfa_sayısı\n",
    "    \n",
    "    def __del__(self):\n",
    "        print(\"Kitap objesi siliniyor........\")"
   ]
  },
  {
   "cell_type": "code",
   "execution_count": 21,
   "metadata": {},
   "outputs": [
    {
     "name": "stdout",
     "output_type": "stream",
     "text": [
      "Kitap objesi oluşturuluyor\n"
     ]
    }
   ],
   "source": [
    "kitap1 = Kitap(\"İstanbul Hatırası\", 'Ahmet Ümit',561,'Polisiye')"
   ]
  },
  {
   "cell_type": "code",
   "execution_count": 22,
   "metadata": {},
   "outputs": [
    {
     "name": "stdout",
     "output_type": "stream",
     "text": [
      "Kitap objesi siliniyor........\n"
     ]
    }
   ],
   "source": [
    "del kitap1 # ekstra ekrena yazdırma özelliği ekledik"
   ]
  }
 ],
 "metadata": {
  "kernelspec": {
   "display_name": "sanal_ortam",
   "language": "python",
   "name": "python3"
  },
  "language_info": {
   "codemirror_mode": {
    "name": "ipython",
    "version": 3
   },
   "file_extension": ".py",
   "mimetype": "text/x-python",
   "name": "python",
   "nbconvert_exporter": "python",
   "pygments_lexer": "ipython3",
   "version": "3.12.1"
  }
 },
 "nbformat": 4,
 "nbformat_minor": 2
}
