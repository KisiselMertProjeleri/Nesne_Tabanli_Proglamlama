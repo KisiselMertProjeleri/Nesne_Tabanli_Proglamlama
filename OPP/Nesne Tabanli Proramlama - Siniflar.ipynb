{
 "cells": [
  {
   "cell_type": "markdown",
   "metadata": {},
   "source": [
    "# Nesne Tabanli Programlama - Siniflar\n",
    "\n",
    "Bu konuda artik kendi veri tiplarimizi ve objelerimizi üretmeye baslayacagiz\n",
    "\n",
    "Kendi veri tiplerimizi olusturmak ve bu veri tiplerinden objeler üretmemiz icin öncellikle objeleri üretecegimiz yapiyi tanimlamamiz gerekiyor. Bunun tasarladigimiz yapiya da sinif veya ingilizce ismiyle class diyoruz. Simdi class yapilarini ögrenerek konumuza baslayalim."
   ]
  },
  {
   "cell_type": "markdown",
   "metadata": {},
   "source": [
    "# Class Anahtar Kelimesi"
   ]
  },
  {
   "cell_type": "markdown",
   "metadata": {},
   "source": [
    "Siniflar veya Classlar objelerimizi olustururken objelerin özelliklerini ve methodlarini tanimladigimiz anlamina geliyor. Biz her bir olayi bu yapiya göre üretiriz. Bir araba classi tanimlayarak yapimizi kurmaya baslayalim."
   ]
  },
  {
   "cell_type": "code",
   "execution_count": 1,
   "metadata": {},
   "outputs": [],
   "source": [
    "# Yeni bir Araba veri tipi olusturuyoruz.\n",
    "class Araba():\n",
    "    model = 'Renault Megane'\n",
    "    renk = 'Gümüs'                  # Sinifimizin özelliklerini olusturduk (attributes)\n",
    "    beygir_gücü = 110\n",
    "    silindir = 4"
   ]
  },
  {
   "cell_type": "markdown",
   "metadata": {},
   "source": [
    "Sinifimizda Python tanimladik. Peki bu siniftan obje nasil olusturacagiz? Bunu da su sekilde tanimliyoruz.\n",
    "\n",
    "                                    obje_ismi = Sinif_ismi(parametreler(opsiyonel))"
   ]
  },
  {
   "cell_type": "code",
   "execution_count": 2,
   "metadata": {},
   "outputs": [],
   "source": [
    "araba1 = Araba() # Araba veri tipinden bir \"araba1\" isminde obje olusturduk"
   ]
  },
  {
   "cell_type": "code",
   "execution_count": 4,
   "metadata": {},
   "outputs": [
    {
     "data": {
      "text/plain": [
       "<__main__.Araba at 0x7f38bc697080>"
      ]
     },
     "execution_count": 4,
     "metadata": {},
     "output_type": "execute_result"
    }
   ],
   "source": [
    "araba1 # objemizin veri tipi Araba'dir"
   ]
  },
  {
   "cell_type": "code",
   "execution_count": 5,
   "metadata": {},
   "outputs": [
    {
     "name": "stdout",
     "output_type": "stream",
     "text": [
      "<class '__main__.Araba'>\n"
     ]
    }
   ],
   "source": [
    "print(type(araba1))"
   ]
  },
  {
   "cell_type": "markdown",
   "metadata": {},
   "source": [
    "araba1 objesi artik tanimladigimiz bütün özelliklere(attributes) sahip olmus oldu. Iste sinif ve obje üretmek bu sekilde olmaktadir. Peki bu araba objesini özelliklerini nasil görebiliriz.\n",
    "\n",
    "                                     obje_ismi.özellik_isim"
   ]
  },
  {
   "cell_type": "code",
   "execution_count": 8,
   "metadata": {},
   "outputs": [
    {
     "data": {
      "text/plain": [
       "110"
      ]
     },
     "execution_count": 8,
     "metadata": {},
     "output_type": "execute_result"
    }
   ],
   "source": [
    "araba1.beygir_gücü"
   ]
  },
  {
   "cell_type": "code",
   "execution_count": 6,
   "metadata": {},
   "outputs": [
    {
     "data": {
      "text/plain": [
       "'Renault Megane'"
      ]
     },
     "execution_count": 6,
     "metadata": {},
     "output_type": "execute_result"
    }
   ],
   "source": [
    "araba1.model"
   ]
  },
  {
   "cell_type": "code",
   "execution_count": 7,
   "metadata": {},
   "outputs": [
    {
     "data": {
      "text/plain": [
       "'Gümüs'"
      ]
     },
     "execution_count": 7,
     "metadata": {},
     "output_type": "execute_result"
    }
   ],
   "source": [
    "araba1.renk"
   ]
  },
  {
   "cell_type": "code",
   "execution_count": 9,
   "metadata": {},
   "outputs": [
    {
     "data": {
      "text/plain": [
       "4"
      ]
     },
     "execution_count": 9,
     "metadata": {},
     "output_type": "execute_result"
    }
   ],
   "source": [
    "araba1.silindir"
   ]
  },
  {
   "cell_type": "markdown",
   "metadata": {},
   "source": [
    "Simdi de baska bir araba objesi olusturalim"
   ]
  },
  {
   "cell_type": "code",
   "execution_count": 10,
   "metadata": {},
   "outputs": [],
   "source": [
    "araba2 = Araba()"
   ]
  },
  {
   "cell_type": "code",
   "execution_count": 11,
   "metadata": {},
   "outputs": [
    {
     "data": {
      "text/plain": [
       "'Renault Megane'"
      ]
     },
     "execution_count": 11,
     "metadata": {},
     "output_type": "execute_result"
    }
   ],
   "source": [
    "araba2.model"
   ]
  },
  {
   "cell_type": "code",
   "execution_count": 12,
   "metadata": {},
   "outputs": [
    {
     "data": {
      "text/plain": [
       "110"
      ]
     },
     "execution_count": 12,
     "metadata": {},
     "output_type": "execute_result"
    }
   ],
   "source": [
    "araba2.beygir_gücü"
   ]
  },
  {
   "cell_type": "code",
   "execution_count": 13,
   "metadata": {},
   "outputs": [
    {
     "data": {
      "text/plain": [
       "4"
      ]
     },
     "execution_count": 13,
     "metadata": {},
     "output_type": "execute_result"
    }
   ],
   "source": [
    "araba2.silindir"
   ]
  },
  {
   "cell_type": "code",
   "execution_count": 14,
   "metadata": {},
   "outputs": [
    {
     "data": {
      "text/plain": [
       "'Gümüs'"
      ]
     },
     "execution_count": 14,
     "metadata": {},
     "output_type": "execute_result"
    }
   ],
   "source": [
    "araba2.renk"
   ]
  },
  {
   "cell_type": "markdown",
   "metadata": {},
   "source": [
    "Burada gördügünüz gibi objelerin buradaki model, renk, vs. özellikleri aynidir. Cünkü aslinda burada tanimladigimiz özellikler birer sinifin özelligidir. Yani burada bir obje olusturdugumuzda bu özelliklerin varsayilan olarak meydana gelir. Bu özelliklerin degerlerine herhangi bir obje olusturmadan da erisebiliriz. Bunu da su sekilde yapariz."
   ]
  },
  {
   "cell_type": "code",
   "execution_count": 16,
   "metadata": {},
   "outputs": [
    {
     "data": {
      "text/plain": [
       "'Gümüs'"
      ]
     },
     "execution_count": 16,
     "metadata": {},
     "output_type": "execute_result"
    }
   ],
   "source": [
    "Araba.renk"
   ]
  },
  {
   "cell_type": "code",
   "execution_count": 17,
   "metadata": {},
   "outputs": [
    {
     "data": {
      "text/plain": [
       "'Renault Megane'"
      ]
     },
     "execution_count": 17,
     "metadata": {},
     "output_type": "execute_result"
    }
   ],
   "source": [
    "Araba.model"
   ]
  },
  {
   "cell_type": "markdown",
   "metadata": {},
   "source": [
    "Bizim her objeyi baslangicta farkli degerlerle olusturmamiz icin her bir objeyi olustururken objenin degerlerini göndermemiz gerekiyor. Bunun icin de özel bir methodu kullanmamiz gerekiyor.\n",
    "\n",
    "Peki bu method nedir ve ne anlama geliyor. Isterseniz ilk olarak dir() fonksiyonu yardimiyla araba1 objemizde neler var bakalim."
   ]
  },
  {
   "cell_type": "code",
   "execution_count": 20,
   "metadata": {},
   "outputs": [
    {
     "data": {
      "text/plain": [
       "['__class__',\n",
       " '__delattr__',\n",
       " '__dict__',\n",
       " '__dir__',\n",
       " '__doc__',\n",
       " '__eq__',\n",
       " '__format__',\n",
       " '__ge__',\n",
       " '__getattribute__',\n",
       " '__getstate__',\n",
       " '__gt__',\n",
       " '__hash__',\n",
       " '__init__',\n",
       " '__init_subclass__',\n",
       " '__le__',\n",
       " '__lt__',\n",
       " '__module__',\n",
       " '__ne__',\n",
       " '__new__',\n",
       " '__reduce__',\n",
       " '__reduce_ex__',\n",
       " '__repr__',\n",
       " '__setattr__',\n",
       " '__sizeof__',\n",
       " '__str__',\n",
       " '__subclasshook__',\n",
       " '__weakref__',\n",
       " 'beygir_gücü',\n",
       " 'model',\n",
       " 'renk',\n",
       " 'silindir']"
      ]
     },
     "execution_count": 20,
     "metadata": {},
     "output_type": "execute_result"
    }
   ],
   "source": [
    "dir(araba1)"
   ]
  },
  {
   "cell_type": "markdown",
   "metadata": {},
   "source": [
    "Burada objenin tüm özelliklerini ve methodlarini görüyoruz. Ancak biz herhangi bir method tanimlanmamistir. Buradaki methodlar Python tarafindan bir obje olusturuldugunda özel olarak tanimlanan methodlardir ve biz eger özel olarak method tanimlamazsak Python kendisi varsailan olarak tanimliyor. Burada ayni zamanda __init__ methodu yapaci(constructor) foknsiyon olarak tanimlanmaktadir. Bu method objelerimizi olustururken otomatik olarak cagirilan ilk methodtur. Bu methodu özel olarak tanimlayarak objelerimizi farkli degerlerle baslatabiliriz.\n",
    "\n",
    "Peki bu methodu nasil tanimlayacagiz? Direk örenk üzerinden gösterelim."
   ]
  },
  {
   "cell_type": "code",
   "execution_count": 21,
   "metadata": {},
   "outputs": [],
   "source": [
    "# Araba Veri Tipi\n",
    "class Araba():\n",
    "    # Simdilik Class özelliklerine ihtiyac yok\n",
    "    def __init__(self):\n",
    "        print(\"init fonksiyonu cagirildi\")"
   ]
  },
  {
   "cell_type": "code",
   "execution_count": 22,
   "metadata": {},
   "outputs": [
    {
     "name": "stdout",
     "output_type": "stream",
     "text": [
      "init fonksiyonu cagirildi\n"
     ]
    }
   ],
   "source": [
    "araba1 = Araba() # araba1 objesini olustururken otomatik olarak __init__ methodumuz cagiriliyor"
   ]
  },
  {
   "cell_type": "markdown",
   "metadata": {},
   "source": [
    "Peki burada self ne anlama geliyor. **self** anahtar kelimesi objeyi olusturdugumuz zaman o objeyi gösteren bir referanstir ve methodlarimizda en basta bulunmasi gereken bir parametredir. Yani biz bir objenin bütün özelliklerini ve methodlarina bu referans üzerinden kullanabiliriz.\n",
    "\n",
    "**Objeler olusturulurken, Python bu referansi otomatik olarak kendisi gönderir. Özel olarak self göndermemize gerek yoktur**\n",
    "\n",
    "**__init__ methodunu ve self'i iyi anlamak icin objerlerimize özellikler ekleyelim.**"
   ]
  },
  {
   "cell_type": "code",
   "execution_count": 32,
   "metadata": {},
   "outputs": [],
   "source": [
    "class Araba():\n",
    "    def __init__(self,model:str,renk:str,beygir_gücü:int,silindir:int): # Parametrelerimizin degerlerini objelerimizi olustururken gönderecegiz.\n",
    "        self.model = model # self.özellik_ismi = parametre degeri seklinde objemizin model özelligine degeri atiyoruz\n",
    "        self.renk = renk # self.özellik_ismi = parametre degeri seklinde objemizin renk özelligine degeri atiyoruz\n",
    "        self.beygir_gücü = beygir_gücü # self.özellik_ismi = parametre degeri seklinde objemizin beygir_gücü özelligine degeri atiyoruz\n",
    "        self.silindir = silindir # self.özellik_ismi = parametre degeri seklinde objemizin silindir özelligine degeri atiyoruz"
   ]
  },
  {
   "cell_type": "code",
   "execution_count": 33,
   "metadata": {},
   "outputs": [],
   "source": [
    "#araba1 objesini olusturalim\n",
    "#Artik degerlerimizi göndererek objelerimizin özelliklerini istedigimiz degerlerle baslatabiliriz.\n",
    "araba1 = Araba('Peuguot 308', 'Beyaz', 90, 4)"
   ]
  },
  {
   "cell_type": "code",
   "execution_count": 34,
   "metadata": {},
   "outputs": [],
   "source": [
    "araba2 = Araba('Renault Megane', 'Gümüs', 110, 4)"
   ]
  },
  {
   "cell_type": "code",
   "execution_count": 35,
   "metadata": {},
   "outputs": [
    {
     "data": {
      "text/plain": [
       "'Peuguot 308'"
      ]
     },
     "execution_count": 35,
     "metadata": {},
     "output_type": "execute_result"
    }
   ],
   "source": [
    "araba1.model"
   ]
  },
  {
   "cell_type": "code",
   "execution_count": 36,
   "metadata": {},
   "outputs": [
    {
     "data": {
      "text/plain": [
       "'Renault Megane'"
      ]
     },
     "execution_count": 36,
     "metadata": {},
     "output_type": "execute_result"
    }
   ],
   "source": [
    "araba2.model"
   ]
  },
  {
   "cell_type": "code",
   "execution_count": 37,
   "metadata": {},
   "outputs": [
    {
     "data": {
      "text/plain": [
       "'Beyaz'"
      ]
     },
     "execution_count": 37,
     "metadata": {},
     "output_type": "execute_result"
    }
   ],
   "source": [
    "araba1.renk"
   ]
  },
  {
   "cell_type": "code",
   "execution_count": 38,
   "metadata": {},
   "outputs": [
    {
     "data": {
      "text/plain": [
       "'Gümüs'"
      ]
     },
     "execution_count": 38,
     "metadata": {},
     "output_type": "execute_result"
    }
   ],
   "source": [
    "araba2.renk"
   ]
  },
  {
   "cell_type": "markdown",
   "metadata": {},
   "source": [
    "**init** fonksiyonunu varsayilan degerlerle de yazabiliriz."
   ]
  },
  {
   "cell_type": "code",
   "execution_count": 39,
   "metadata": {},
   "outputs": [],
   "source": [
    "class Araba():\n",
    "    def __init__(self,model = 'Bilgi Yok',renk = 'Bilgi Yok',beygir_gücü = 'Bilgi Yok',silindir = 'Bilgi Yok'): # Parametrelerimizin degerlerini objelerimizi olustururken gönderecegiz.\n",
    "        self.model = model # self.özellik_ismi = parametre degeri seklinde objemizin model özelligine degeri atiyoruz\n",
    "        self.renk = renk # self.özellik_ismi = parametre degeri seklinde objemizin renk özelligine degeri atiyoruz\n",
    "        self.beygir_gücü = beygir_gücü # self.özellik_ismi = parametre degeri seklinde objemizin beygir_gücü özelligine degeri atiyoruz\n",
    "        self.silindir = silindir # self.özellik_ismi = parametre degeri seklinde objemizin silindir özelligine degeri atiyoruz"
   ]
  },
  {
   "cell_type": "code",
   "execution_count": 40,
   "metadata": {},
   "outputs": [],
   "source": [
    "araba1 = Araba(beygir_gücü = 85, renk = 'Siyah')"
   ]
  },
  {
   "cell_type": "code",
   "execution_count": 41,
   "metadata": {},
   "outputs": [
    {
     "data": {
      "text/plain": [
       "'Siyah'"
      ]
     },
     "execution_count": 41,
     "metadata": {},
     "output_type": "execute_result"
    }
   ],
   "source": [
    "araba1.renk"
   ]
  },
  {
   "cell_type": "code",
   "execution_count": 42,
   "metadata": {},
   "outputs": [
    {
     "data": {
      "text/plain": [
       "'Bilgi Yok'"
      ]
     },
     "execution_count": 42,
     "metadata": {},
     "output_type": "execute_result"
    }
   ],
   "source": [
    "araba1.model"
   ]
  },
  {
   "cell_type": "code",
   "execution_count": 45,
   "metadata": {},
   "outputs": [
    {
     "data": {
      "text/plain": [
       "'Bilgi Yok'"
      ]
     },
     "execution_count": 45,
     "metadata": {},
     "output_type": "execute_result"
    }
   ],
   "source": [
    "araba2 = Araba()\n",
    "araba2.renk"
   ]
  },
  {
   "cell_type": "markdown",
   "metadata": {},
   "source": [
    "Iste burada gördügümüz gibi her bir objeyi __init__ methodunu kendimiz yazarak farkli degerlerle olusturabiliyoruz. Bir sonraki konuda kendi methodlarimizi nasil yazacagimizi ögrenecgiz."
   ]
  },
  {
   "cell_type": "code",
   "execution_count": null,
   "metadata": {},
   "outputs": [],
   "source": []
  },
  {
   "cell_type": "code",
   "execution_count": null,
   "metadata": {},
   "outputs": [],
   "source": []
  },
  {
   "cell_type": "code",
   "execution_count": null,
   "metadata": {},
   "outputs": [],
   "source": []
  }
 ],
 "metadata": {
  "kernelspec": {
   "display_name": "sanal_ortam",
   "language": "python",
   "name": "python3"
  },
  "language_info": {
   "codemirror_mode": {
    "name": "ipython",
    "version": 3
   },
   "file_extension": ".py",
   "mimetype": "text/x-python",
   "name": "python",
   "nbconvert_exporter": "python",
   "pygments_lexer": "ipython3",
   "version": "3.12.1"
  }
 },
 "nbformat": 4,
 "nbformat_minor": 2
}
